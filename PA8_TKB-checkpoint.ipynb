{
 "cells": [
  {
   "cell_type": "markdown",
   "id": "6feabf48",
   "metadata": {},
   "source": [
    "# Tristan Beckmann\n",
    "\n",
    "# 2023SP Computer Prog for Liberal Arts (CS-150-01)\n",
    "## Programming Assignment 8 - Version 1\n",
    "### Spring 2023"
   ]
  },
  {
   "cell_type": "code",
   "execution_count": 1,
   "id": "3cada646",
   "metadata": {},
   "outputs": [],
   "source": [
    "import numpy as np #renaming numpy as np"
   ]
  },
  {
   "cell_type": "code",
   "execution_count": 2,
   "id": "091266ff",
   "metadata": {},
   "outputs": [
    {
     "name": "stdout",
     "output_type": "stream",
     "text": [
      "1.21.5\n"
     ]
    }
   ],
   "source": [
    "print(np.__version__)"
   ]
  },
  {
   "cell_type": "markdown",
   "id": "17869c7c",
   "metadata": {},
   "source": [
    "### a.\tCreate a 2-by-2 NumPy array with elements 10,20,30,40 in it. "
   ]
  },
  {
   "cell_type": "code",
   "execution_count": 3,
   "id": "d2b2a60d",
   "metadata": {},
   "outputs": [],
   "source": [
    "array1=np.array([[10,20], [30,40]])"
   ]
  },
  {
   "cell_type": "markdown",
   "id": "5303442f",
   "metadata": {},
   "source": [
    "##### Square every element of the array"
   ]
  },
  {
   "cell_type": "code",
   "execution_count": 5,
   "id": "0b7ed57a",
   "metadata": {},
   "outputs": [
    {
     "name": "stdout",
     "output_type": "stream",
     "text": [
      "Squared array: \n",
      " [[ 100  400]\n",
      " [ 900 1600]]\n"
     ]
    }
   ],
   "source": [
    "squared_array=array1**2\n",
    "print(\"Squared array: \\n\", squared_array)\n"
   ]
  },
  {
   "cell_type": "markdown",
   "id": "37e2760f",
   "metadata": {},
   "source": [
    "##### Add 100 to every element of the array"
   ]
  },
  {
   "cell_type": "code",
   "execution_count": 7,
   "id": "57bbb5b1",
   "metadata": {},
   "outputs": [
    {
     "name": "stdout",
     "output_type": "stream",
     "text": [
      "Added array: \n",
      " [[110 120]\n",
      " [130 140]]\n"
     ]
    }
   ],
   "source": [
    "added_array=array1+100\n",
    "print(\"Added array: \\n\", added_array)"
   ]
  },
  {
   "cell_type": "markdown",
   "id": "f25a4fe5",
   "metadata": {},
   "source": [
    "##### Multiply every element of the array by 5."
   ]
  },
  {
   "cell_type": "code",
   "execution_count": 8,
   "id": "88aa675b",
   "metadata": {},
   "outputs": [
    {
     "name": "stdout",
     "output_type": "stream",
     "text": [
      "Multiplied array: \n",
      " [[ 50 100]\n",
      " [150 200]]\n"
     ]
    }
   ],
   "source": [
    "multiplied_array=array1*5\n",
    "print(\"Multiplied array: \\n\", multiplied_array)"
   ]
  },
  {
   "cell_type": "markdown",
   "id": "d587ce5c",
   "metadata": {},
   "source": [
    "##### Calculate the square root of each element in the array."
   ]
  },
  {
   "cell_type": "code",
   "execution_count": 9,
   "id": "d20129fb",
   "metadata": {},
   "outputs": [
    {
     "name": "stdout",
     "output_type": "stream",
     "text": [
      "Square root array: \n",
      " [[3.16227766 4.47213595]\n",
      " [5.47722558 6.32455532]]\n"
     ]
    }
   ],
   "source": [
    "sqrt_array=np.sqrt(array1)\n",
    "print(\"Square root array: \\n\", sqrt_array)"
   ]
  },
  {
   "cell_type": "markdown",
   "id": "51f9e9ca",
   "metadata": {},
   "source": [
    "### Create a 3-by-3 array containing integers from 3 to 27 in multiples of 3.  Create a second 3-by-3 array with 9 elements evenly spaced between 10 and 20.  Multiply these arrays together and display the output.\n"
   ]
  },
  {
   "cell_type": "code",
   "execution_count": 10,
   "id": "a6457ac4",
   "metadata": {},
   "outputs": [
    {
     "name": "stdout",
     "output_type": "stream",
     "text": [
      "Array 2: \n",
      " [[ 3  6  9]\n",
      " [12 15 18]\n",
      " [21 24 27]]\n",
      "Array 3: \n",
      " [[10.   11.25 12.5 ]\n",
      " [13.75 15.   16.25]\n",
      " [17.5  18.75 20.  ]]\n",
      "Result: \n",
      " [[ 30.   67.5 112.5]\n",
      " [165.  225.  292.5]\n",
      " [367.5 450.  540. ]]\n"
     ]
    }
   ],
   "source": [
    "array2 = np.arange(3, 30, 3).reshape(3, 3)\n",
    "print(\"Array 2: \\n\", array2)\n",
    "\n",
    "array3 = np.linspace(10, 20, 9).reshape(3, 3)\n",
    "print(\"Array 3: \\n\", array3)\n",
    "\n",
    "result = array2 * array3\n",
    "print(\"Result: \\n\", result)\n"
   ]
  },
  {
   "cell_type": "markdown",
   "id": "8f197cfb",
   "metadata": {},
   "source": [
    "### Attached to the assignment are five .npy files that contain five values each. Read these files in and stack them into a unified dataset.  This would be a 5-by-5 NumPy array.  Then calculate the mean of each column of data. Let Python do all of the heavy liftings! Don’t forget, you need to put the .npy files in the same directory as your script."
   ]
  },
  {
   "cell_type": "code",
   "execution_count": 11,
   "id": "1159d6e7",
   "metadata": {},
   "outputs": [],
   "source": [
    "import numpy as np\n",
    "import pandas as pd\n",
    "import matplotlib.pyplot as plt"
   ]
  },
  {
   "cell_type": "code",
   "execution_count": 14,
   "id": "0e14d618",
   "metadata": {},
   "outputs": [],
   "source": [
    "Process_1=np.load('process1.npy')\n",
    "Process_2=np.load('process2.npy')\n",
    "Process_3=np.load('process3.npy')\n",
    "Process_4=np.load('process4.npy')\n",
    "Process_5=np.load('process5.npy')"
   ]
  },
  {
   "cell_type": "code",
   "execution_count": 15,
   "id": "9f77416b",
   "metadata": {},
   "outputs": [],
   "source": [
    "dataset=np.concatenate((Process_1,Process_2,Process_3,Process_4,Process_5),axis=0)"
   ]
  },
  {
   "cell_type": "code",
   "execution_count": 18,
   "id": "1a326cb7",
   "metadata": {},
   "outputs": [
    {
     "name": "stdout",
     "output_type": "stream",
     "text": [
      "(5, 5)\n"
     ]
    },
    {
     "data": {
      "text/plain": [
       "array([[52, 12, 81,  0, 58],\n",
       "       [96,  4, 61, 16, 43],\n",
       "       [38, 96, 45, 17, 58],\n",
       "       [97, 21, 22, 25,  6],\n",
       "       [77,  6, 19,  2, 74]])"
      ]
     },
     "execution_count": 18,
     "metadata": {},
     "output_type": "execute_result"
    }
   ],
   "source": [
    "print(dataset.shape)\n",
    "dataset"
   ]
  },
  {
   "cell_type": "code",
   "execution_count": 19,
   "id": "0f9c177b",
   "metadata": {},
   "outputs": [
    {
     "name": "stdout",
     "output_type": "stream",
     "text": [
      "[72.  27.8 45.6 12.  47.8]\n"
     ]
    }
   ],
   "source": [
    "mean_cols=np.mean(dataset,axis=0)\n",
    "print(mean_cols)"
   ]
  }
 ],
 "metadata": {
  "kernelspec": {
   "display_name": "Python 3 (ipykernel)",
   "language": "python",
   "name": "python3"
  },
  "language_info": {
   "codemirror_mode": {
    "name": "ipython",
    "version": 3
   },
   "file_extension": ".py",
   "mimetype": "text/x-python",
   "name": "python",
   "nbconvert_exporter": "python",
   "pygments_lexer": "ipython3",
   "version": "3.9.13"
  }
 },
 "nbformat": 4,
 "nbformat_minor": 5
}
